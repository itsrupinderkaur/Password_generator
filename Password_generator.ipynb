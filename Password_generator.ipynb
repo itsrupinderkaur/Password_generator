{
 "cells": [
  {
   "cell_type": "code",
   "execution_count": 1,
   "metadata": {},
   "outputs": [],
   "source": [
    "#this will provide a system generator password for the user\n",
    "#minimum length should be 6\n",
    "#ask user how long password they need\n",
    "#how many letters\n",
    "#how many numbers\n",
    "#mix the upper and lowercase letters and numbers with symbols"
   ]
  },
  {
   "cell_type": "code",
   "execution_count": 27,
   "metadata": {},
   "outputs": [],
   "source": [
    "import random\n",
    "import string\n",
    "def password_generator(a,b,c):\n",
    "    for i in range(0,b):\n",
    "        letters = string.ascii_letters\n",
    "        random_letter = random.choice(letters)\n",
    "        print(random_letter)\n",
    "    for i in range(0,c):\n",
    "        numbers = randint(0,10)\n",
    "        print(numbers)"
   ]
  },
  {
   "cell_type": "code",
   "execution_count": 28,
   "metadata": {},
   "outputs": [],
   "source": [
    "def password_length():\n",
    "    a = int(input(\"Please tell the total length of the password that you want to set\"))\n",
    "    if a<6:\n",
    "        print(\"the password length should be more than 6\")\n",
    "        password_length()\n",
    "    else:\n",
    "        password_letters(a)"
   ]
  },
  {
   "cell_type": "code",
   "execution_count": 29,
   "metadata": {},
   "outputs": [],
   "source": [
    "def password_letters(a):\n",
    "    b = int(input(\"Please tell the number of letters\"))\n",
    "    if b>a:\n",
    "        print(\"the number of letters should be less than the total length of the password\")\n",
    "        password_letters(a)\n",
    "    else:\n",
    "        password_numbers(a,b)"
   ]
  },
  {
   "cell_type": "code",
   "execution_count": 30,
   "metadata": {},
   "outputs": [],
   "source": [
    "def password_numbers(a,b):\n",
    "    c= int(input(\"Please tell how many numbers do you want in your password\"))\n",
    "    if b+c>a:\n",
    "        print(\"the password can not be generatored. \\n please provide a valid number\")\n",
    "        password_numbers(a,b)\n",
    "    else:\n",
    "        password_generator(a,b,c)"
   ]
  },
  {
   "cell_type": "code",
   "execution_count": 31,
   "metadata": {},
   "outputs": [
    {
     "name": "stdout",
     "output_type": "stream",
     "text": [
      "Please tell the total length of the password that you want to set7\n",
      "Please tell the number of letters3\n",
      "Please tell how many numbers do you want in your password3\n",
      "k\n",
      "M\n",
      "P\n",
      "2\n",
      "7\n",
      "2\n"
     ]
    }
   ],
   "source": [
    "password_length()"
   ]
  },
  {
   "cell_type": "code",
   "execution_count": null,
   "metadata": {},
   "outputs": [],
   "source": []
  },
  {
   "cell_type": "code",
   "execution_count": null,
   "metadata": {},
   "outputs": [],
   "source": []
  }
 ],
 "metadata": {
  "kernelspec": {
   "display_name": "Python 3",
   "language": "python",
   "name": "python3"
  },
  "language_info": {
   "codemirror_mode": {
    "name": "ipython",
    "version": 3
   },
   "file_extension": ".py",
   "mimetype": "text/x-python",
   "name": "python",
   "nbconvert_exporter": "python",
   "pygments_lexer": "ipython3",
   "version": "3.7.4"
  }
 },
 "nbformat": 4,
 "nbformat_minor": 2
}
